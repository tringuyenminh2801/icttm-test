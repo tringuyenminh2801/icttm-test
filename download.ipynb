{
 "cells": [
  {
   "cell_type": "markdown",
   "metadata": {},
   "source": [
    "This file should only be used to contain the code used to download data by using the selenium \n",
    "\n",
    "and\n",
    "\n",
    "Upload data to minio"
   ]
  },
  {
   "cell_type": "code",
   "execution_count": null,
   "metadata": {},
   "outputs": [],
   "source": [
    "%pip install boto3\n",
    "# Libraries maybe you need to install in your environment to use selenium and chromedriver below\n",
    "# %pip install selenium chromedriver-binary"
   ]
  },
  {
   "cell_type": "code",
   "execution_count": 2,
   "metadata": {},
   "outputs": [],
   "source": [
    "import os\n",
    "import boto3"
   ]
  },
  {
   "cell_type": "code",
   "execution_count": null,
   "metadata": {},
   "outputs": [],
   "source": [
    "# The file download processing section should be placed here\n",
    "import time\n",
    "from zipfile import ZipFile\n",
    "from selenium import webdriver\n",
    "from selenium.webdriver.chrome.options import Options\n",
    "from selenium.webdriver.common.by import By\n",
    "from selenium.webdriver import ActionChains\n",
    "\n",
    "%pip install --upgrade --force-reinstall chromedriver-binary-auto\n",
    "from dotenv import load_dotenv\n",
    "import chromedriver_binary\n",
    "\n",
    "DOWNLOAD_PATH = \"https://drive.google.com/drive/folders/1EImvKyUQ_iJCfd2h-Dxjn_sqPyDV5tFC?usp=sharing\"\n",
    "CURRENT_DIRECTORY = os.getcwd()\n",
    "DOWLOAD_FILENAME = \"data.zip\"\n",
    "\n",
    "def setupDriver(args: list[str], params: dict):\n",
    "    print(\"Setting up webdriver...\")\n",
    "    options = Options()\n",
    "    for arg in args:\n",
    "        options.add_argument(arg)\n",
    "    driver = webdriver.Chrome(options=options)\n",
    "    driver.execute_cdp_cmd('Page.setDownloadBehavior', params)\n",
    "    print(\"Done!\")\n",
    "    return driver\n",
    "\n",
    "args = [\"--headless=True\", \"--window-size=1920,1080\"]\n",
    "params = {\n",
    "    'downloadPath' : CURRENT_DIRECTORY,\n",
    "    'behavior' : 'allow'\n",
    "}\n",
    "driver = setupDriver(args=args, params=params)\n",
    "actions = ActionChains(driver)\n",
    "\n",
    "# Hover the mouse to the download button\n",
    "# Wait til 'Tải xuống' appear then click to download the file\n",
    "driver.get(DOWNLOAD_PATH)\n",
    "time.sleep(3)\n",
    "popupDownloadButton = driver.find_element(By.XPATH, \"//span[text()='Tải xuống']\")\n",
    "actions.move_to_element(popupDownloadButton).perform()\n",
    "popupDownloadButton.click()\n",
    "print(f\"Downloading {DOWLOAD_FILENAME} to {CURRENT_DIRECTORY}...\")\n",
    "\n",
    "# Wait until the zip file has been downloaded\n",
    "while DOWLOAD_FILENAME not in os.listdir(CURRENT_DIRECTORY):\n",
    "    time.sleep(5)\n",
    "print(\"Done!\")\n",
    "\n",
    "# Extract the data inside the zip file\n",
    "with ZipFile(DOWLOAD_FILENAME, 'r') as zip_ref:\n",
    "    print(f\"Extracting {DOWLOAD_FILENAME}...\")\n",
    "    zip_ref.extractall(CURRENT_DIRECTORY)\n",
    "    print(f\"Done!\")\n",
    "# Go to the path\n",
    "#..........................................................."
   ]
  },
  {
   "cell_type": "code",
   "execution_count": 6,
   "metadata": {},
   "outputs": [],
   "source": [
    "# Define S3 storage\n",
    "obj_storage_access_key = os.getenv('OBJ_STORAGE_ACCESS_KEY', '')\n",
    "obj_storage_secret_key = os.getenv('OBJ_STORAGE_SECRET_KEY', '')\n",
    "obj_storage_endpoint = os.getenv('OBJ_STORAGE_ENDPOINT', 'http://localhost:9000')"
   ]
  },
  {
   "cell_type": "code",
   "execution_count": 7,
   "metadata": {},
   "outputs": [],
   "source": [
    "# Function to upload file to minio\n",
    "def upload_file_to_minio(file_path, minio_bucket, minio_object_name):\n",
    "    s3c = boto3.resource('s3',\n",
    "                        endpoint_url=obj_storage_endpoint,\n",
    "                        aws_access_key_id=obj_storage_access_key,\n",
    "                        aws_secret_access_key=obj_storage_secret_key,\n",
    "                        config=boto3.session.Config(signature_version='s3v4'),\n",
    "                        verify=False\n",
    "                        )\n",
    "    s3c.Bucket(minio_bucket).upload_file(file_path, minio_object_name)\n"
   ]
  },
  {
   "cell_type": "code",
   "execution_count": 8,
   "metadata": {},
   "outputs": [],
   "source": [
    "# Upload file to minio\n",
    "upload_file_to_minio('data.json', 'data', 'data-raw/data.json')\n",
    "upload_file_to_minio('data2.json', 'data', 'data-raw/data2.json')\n",
    "upload_file_to_minio('data3.json', 'data', 'data-raw/data3.json')"
   ]
  }
 ],
 "metadata": {
  "kernelspec": {
   "display_name": "Python 3 (ipykernel)",
   "language": "python",
   "name": "python3"
  },
  "language_info": {
   "codemirror_mode": {
    "name": "ipython",
    "version": 3
   },
   "file_extension": ".py",
   "mimetype": "text/x-python",
   "name": "python",
   "nbconvert_exporter": "python",
   "pygments_lexer": "ipython3",
   "version": "3.10.0"
  }
 },
 "nbformat": 4,
 "nbformat_minor": 4
}
